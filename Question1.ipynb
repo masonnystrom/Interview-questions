{
  "nbformat": 4,
  "nbformat_minor": 0,
  "metadata": {
    "colab": {
      "name": "Question1.ipynb",
      "provenance": [],
      "authorship_tag": "ABX9TyN6t+BaQkD6tRdCMTHgT4Kw",
      "include_colab_link": true
    },
    "kernelspec": {
      "name": "python3",
      "display_name": "Python 3"
    }
  },
  "cells": [
    {
      "cell_type": "markdown",
      "metadata": {
        "id": "view-in-github",
        "colab_type": "text"
      },
      "source": [
        "<a href=\"https://colab.research.google.com/github/masonnystrom/Interview-questions/blob/master/Question1.ipynb\" target=\"_parent\"><img src=\"https://colab.research.google.com/assets/colab-badge.svg\" alt=\"Open In Colab\"/></a>"
      ]
    },
    {
      "cell_type": "markdown",
      "metadata": {
        "id": "wbmN4BuuQKWG",
        "colab_type": "text"
      },
      "source": [
        "You are given the following dataset, containing information on baby names from the U.S. Social Security Administration.\n",
        "\n",
        "\n",
        "\n",
        "Using the dataset, write code to find the following:\n",
        "\n",
        "* Number of unique names across the dataset, split by both # of unique male/female names\n",
        "* Top 10 most popular male and female names, along with their associated counts\n",
        "* The top 10 most trending names (% growth) from 2010+, with an associated plot to show the relative growth between names"
      ]
    },
    {
      "cell_type": "code",
      "metadata": {
        "id": "gBgCqmwmQGx_",
        "colab_type": "code",
        "colab": {
          "base_uri": "https://localhost:8080/",
          "height": 221
        },
        "outputId": "973b677e-0c56-4cec-8dda-0af66f780694"
      },
      "source": [
        "import matplotlib.pyplot as plt\n",
        "import numpy as np\n",
        "import pandas as pd\n",
        "import seaborn as sns\n",
        "baby_names = pd.read_csv(\"https://raw.githubusercontent.com/erood/interviewqs.com_code_snippets/master/Datasets/ddi_baby_names.csv\")\n",
        "print(baby_names.shape)\n",
        "baby_names.head()"
      ],
      "execution_count": 4,
      "outputs": [
        {
          "output_type": "stream",
          "text": [
            "(1957046, 4)\n"
          ],
          "name": "stdout"
        },
        {
          "output_type": "execute_result",
          "data": {
            "text/html": [
              "<div>\n",
              "<style scoped>\n",
              "    .dataframe tbody tr th:only-of-type {\n",
              "        vertical-align: middle;\n",
              "    }\n",
              "\n",
              "    .dataframe tbody tr th {\n",
              "        vertical-align: top;\n",
              "    }\n",
              "\n",
              "    .dataframe thead th {\n",
              "        text-align: right;\n",
              "    }\n",
              "</style>\n",
              "<table border=\"1\" class=\"dataframe\">\n",
              "  <thead>\n",
              "    <tr style=\"text-align: right;\">\n",
              "      <th></th>\n",
              "      <th>year</th>\n",
              "      <th>name</th>\n",
              "      <th>gender</th>\n",
              "      <th>count</th>\n",
              "    </tr>\n",
              "  </thead>\n",
              "  <tbody>\n",
              "    <tr>\n",
              "      <th>0</th>\n",
              "      <td>1880</td>\n",
              "      <td>Mary</td>\n",
              "      <td>F</td>\n",
              "      <td>7065</td>\n",
              "    </tr>\n",
              "    <tr>\n",
              "      <th>1</th>\n",
              "      <td>1880</td>\n",
              "      <td>Anna</td>\n",
              "      <td>F</td>\n",
              "      <td>2604</td>\n",
              "    </tr>\n",
              "    <tr>\n",
              "      <th>2</th>\n",
              "      <td>1880</td>\n",
              "      <td>Emma</td>\n",
              "      <td>F</td>\n",
              "      <td>2003</td>\n",
              "    </tr>\n",
              "    <tr>\n",
              "      <th>3</th>\n",
              "      <td>1880</td>\n",
              "      <td>Elizabeth</td>\n",
              "      <td>F</td>\n",
              "      <td>1939</td>\n",
              "    </tr>\n",
              "    <tr>\n",
              "      <th>4</th>\n",
              "      <td>1880</td>\n",
              "      <td>Minnie</td>\n",
              "      <td>F</td>\n",
              "      <td>1746</td>\n",
              "    </tr>\n",
              "  </tbody>\n",
              "</table>\n",
              "</div>"
            ],
            "text/plain": [
              "   year       name gender  count\n",
              "0  1880       Mary      F   7065\n",
              "1  1880       Anna      F   2604\n",
              "2  1880       Emma      F   2003\n",
              "3  1880  Elizabeth      F   1939\n",
              "4  1880     Minnie      F   1746"
            ]
          },
          "metadata": {
            "tags": []
          },
          "execution_count": 4
        }
      ]
    },
    {
      "cell_type": "code",
      "metadata": {
        "id": "lTfJh63lVAGV",
        "colab_type": "code",
        "colab": {
          "base_uri": "https://localhost:8080/",
          "height": 102
        },
        "outputId": "01e7c7a9-32ae-4efd-e2da-b7ead7519276"
      },
      "source": [
        "baby_names.nunique()"
      ],
      "execution_count": 54,
      "outputs": [
        {
          "output_type": "execute_result",
          "data": {
            "text/plain": [
              "year        139\n",
              "name      98400\n",
              "gender        2\n",
              "count     13720\n",
              "dtype: int64"
            ]
          },
          "metadata": {
            "tags": []
          },
          "execution_count": 54
        }
      ]
    },
    {
      "cell_type": "code",
      "metadata": {
        "id": "6zT6SftpS6II",
        "colab_type": "code",
        "colab": {}
      },
      "source": [
        "male = baby_names[baby_names['gender'] == 'M']\n",
        "female = baby_names[baby_names['gender'] == 'F']"
      ],
      "execution_count": 0,
      "outputs": []
    },
    {
      "cell_type": "code",
      "metadata": {
        "id": "jJFN0yr4VQ7s",
        "colab_type": "code",
        "colab": {
          "base_uri": "https://localhost:8080/",
          "height": 51
        },
        "outputId": "b788f5c1-8ac2-4c28-e532-63f12ab3ff30"
      },
      "source": [
        "print(male['name'].nunique())\n",
        "print(female['name'].nunique())\n"
      ],
      "execution_count": 62,
      "outputs": [
        {
          "output_type": "stream",
          "text": [
            "41475\n",
            "67698\n"
          ],
          "name": "stdout"
        }
      ]
    },
    {
      "cell_type": "code",
      "metadata": {
        "id": "OC9JCNJwSF9i",
        "colab_type": "code",
        "colab": {
          "base_uri": "https://localhost:8080/",
          "height": 204
        },
        "outputId": "e9a977cd-5c17-4228-c648-90693e6d6c9f"
      },
      "source": [
        "male['name'].value_counts()[:10]"
      ],
      "execution_count": 46,
      "outputs": [
        {
          "output_type": "execute_result",
          "data": {
            "text/plain": [
              "Allan        139\n",
              "Oscar        139\n",
              "Hugo         139\n",
              "Delbert      139\n",
              "Lafayette    139\n",
              "August       139\n",
              "Adam         139\n",
              "Ben          139\n",
              "David        139\n",
              "King         139\n",
              "Name: name, dtype: int64"
            ]
          },
          "metadata": {
            "tags": []
          },
          "execution_count": 46
        }
      ]
    },
    {
      "cell_type": "code",
      "metadata": {
        "id": "lCWKYNkgSe9V",
        "colab_type": "code",
        "colab": {
          "base_uri": "https://localhost:8080/",
          "height": 204
        },
        "outputId": "fa34c07d-c447-4d5f-b270-15c0892b33d3"
      },
      "source": [
        "female['name'].value_counts()[:10]"
      ],
      "execution_count": 47,
      "outputs": [
        {
          "output_type": "execute_result",
          "data": {
            "text/plain": [
              "Margie       139\n",
              "Daisy        139\n",
              "Elizabeth    139\n",
              "Muriel       139\n",
              "Reba         139\n",
              "Polly        139\n",
              "Vina         139\n",
              "Susan        139\n",
              "Minerva      139\n",
              "Molly        139\n",
              "Name: name, dtype: int64"
            ]
          },
          "metadata": {
            "tags": []
          },
          "execution_count": 47
        }
      ]
    },
    {
      "cell_type": "code",
      "metadata": {
        "id": "CoYfc19bQanH",
        "colab_type": "code",
        "colab": {
          "base_uri": "https://localhost:8080/",
          "height": 359
        },
        "outputId": "9cf38af9-8ff9-4879-e786-1f373b2d4445"
      },
      "source": [
        "male[['name', 'count']].sort_values(by='count', ascending=False)[:10]"
      ],
      "execution_count": 63,
      "outputs": [
        {
          "output_type": "execute_result",
          "data": {
            "text/html": [
              "<div>\n",
              "<style scoped>\n",
              "    .dataframe tbody tr th:only-of-type {\n",
              "        vertical-align: middle;\n",
              "    }\n",
              "\n",
              "    .dataframe tbody tr th {\n",
              "        vertical-align: top;\n",
              "    }\n",
              "\n",
              "    .dataframe thead th {\n",
              "        text-align: right;\n",
              "    }\n",
              "</style>\n",
              "<table border=\"1\" class=\"dataframe\">\n",
              "  <thead>\n",
              "    <tr style=\"text-align: right;\">\n",
              "      <th></th>\n",
              "      <th>name</th>\n",
              "      <th>count</th>\n",
              "    </tr>\n",
              "  </thead>\n",
              "  <tbody>\n",
              "    <tr>\n",
              "      <th>437169</th>\n",
              "      <td>James</td>\n",
              "      <td>94757</td>\n",
              "    </tr>\n",
              "    <tr>\n",
              "      <th>544630</th>\n",
              "      <td>Michael</td>\n",
              "      <td>92704</td>\n",
              "    </tr>\n",
              "    <tr>\n",
              "      <th>437170</th>\n",
              "      <td>Robert</td>\n",
              "      <td>91640</td>\n",
              "    </tr>\n",
              "    <tr>\n",
              "      <th>533165</th>\n",
              "      <td>Michael</td>\n",
              "      <td>90656</td>\n",
              "    </tr>\n",
              "    <tr>\n",
              "      <th>556204</th>\n",
              "      <td>Michael</td>\n",
              "      <td>90517</td>\n",
              "    </tr>\n",
              "    <tr>\n",
              "      <th>447478</th>\n",
              "      <td>James</td>\n",
              "      <td>88584</td>\n",
              "    </tr>\n",
              "    <tr>\n",
              "      <th>510812</th>\n",
              "      <td>Michael</td>\n",
              "      <td>88528</td>\n",
              "    </tr>\n",
              "    <tr>\n",
              "      <th>521887</th>\n",
              "      <td>Michael</td>\n",
              "      <td>88327</td>\n",
              "    </tr>\n",
              "    <tr>\n",
              "      <th>437171</th>\n",
              "      <td>John</td>\n",
              "      <td>88319</td>\n",
              "    </tr>\n",
              "    <tr>\n",
              "      <th>427047</th>\n",
              "      <td>James</td>\n",
              "      <td>87436</td>\n",
              "    </tr>\n",
              "  </tbody>\n",
              "</table>\n",
              "</div>"
            ],
            "text/plain": [
              "           name  count\n",
              "437169    James  94757\n",
              "544630  Michael  92704\n",
              "437170   Robert  91640\n",
              "533165  Michael  90656\n",
              "556204  Michael  90517\n",
              "447478    James  88584\n",
              "510812  Michael  88528\n",
              "521887  Michael  88327\n",
              "437171     John  88319\n",
              "427047    James  87436"
            ]
          },
          "metadata": {
            "tags": []
          },
          "execution_count": 63
        }
      ]
    },
    {
      "cell_type": "code",
      "metadata": {
        "id": "7jaHBzFnWBUe",
        "colab_type": "code",
        "colab": {
          "base_uri": "https://localhost:8080/",
          "height": 359
        },
        "outputId": "575ca3fe-4b66-4225-a73c-f92b6f0ad6af"
      },
      "source": [
        "female[['name','count']].sort_values(by='count', ascending=False)[:10]"
      ],
      "execution_count": 66,
      "outputs": [
        {
          "output_type": "execute_result",
          "data": {
            "text/html": [
              "<div>\n",
              "<style scoped>\n",
              "    .dataframe tbody tr th:only-of-type {\n",
              "        vertical-align: middle;\n",
              "    }\n",
              "\n",
              "    .dataframe tbody tr th {\n",
              "        vertical-align: top;\n",
              "    }\n",
              "\n",
              "    .dataframe thead th {\n",
              "        text-align: right;\n",
              "    }\n",
              "</style>\n",
              "<table border=\"1\" class=\"dataframe\">\n",
              "  <thead>\n",
              "    <tr style=\"text-align: right;\">\n",
              "      <th></th>\n",
              "      <th>name</th>\n",
              "      <th>count</th>\n",
              "    </tr>\n",
              "  </thead>\n",
              "  <tbody>\n",
              "    <tr>\n",
              "      <th>431066</th>\n",
              "      <td>Linda</td>\n",
              "      <td>99689</td>\n",
              "    </tr>\n",
              "    <tr>\n",
              "      <th>441437</th>\n",
              "      <td>Linda</td>\n",
              "      <td>96211</td>\n",
              "    </tr>\n",
              "    <tr>\n",
              "      <th>451678</th>\n",
              "      <td>Linda</td>\n",
              "      <td>91016</td>\n",
              "    </tr>\n",
              "    <tr>\n",
              "      <th>461947</th>\n",
              "      <td>Linda</td>\n",
              "      <td>80431</td>\n",
              "    </tr>\n",
              "    <tr>\n",
              "      <th>180209</th>\n",
              "      <td>Mary</td>\n",
              "      <td>73985</td>\n",
              "    </tr>\n",
              "    <tr>\n",
              "      <th>472250</th>\n",
              "      <td>Linda</td>\n",
              "      <td>73978</td>\n",
              "    </tr>\n",
              "    <tr>\n",
              "      <th>212465</th>\n",
              "      <td>Mary</td>\n",
              "      <td>73534</td>\n",
              "    </tr>\n",
              "    <tr>\n",
              "      <th>191066</th>\n",
              "      <td>Mary</td>\n",
              "      <td>72173</td>\n",
              "    </tr>\n",
              "    <tr>\n",
              "      <th>431067</th>\n",
              "      <td>Mary</td>\n",
              "      <td>71687</td>\n",
              "    </tr>\n",
              "    <tr>\n",
              "      <th>201822</th>\n",
              "      <td>Mary</td>\n",
              "      <td>71638</td>\n",
              "    </tr>\n",
              "  </tbody>\n",
              "</table>\n",
              "</div>"
            ],
            "text/plain": [
              "         name  count\n",
              "431066  Linda  99689\n",
              "441437  Linda  96211\n",
              "451678  Linda  91016\n",
              "461947  Linda  80431\n",
              "180209   Mary  73985\n",
              "472250  Linda  73978\n",
              "212465   Mary  73534\n",
              "191066   Mary  72173\n",
              "431067   Mary  71687\n",
              "201822   Mary  71638"
            ]
          },
          "metadata": {
            "tags": []
          },
          "execution_count": 66
        }
      ]
    },
    {
      "cell_type": "code",
      "metadata": {
        "id": "YZ4_rnf6Qb94",
        "colab_type": "code",
        "colab": {}
      },
      "source": [
        "# plotting\n",
        "import plotly.express as px\n"
      ],
      "execution_count": 0,
      "outputs": []
    },
    {
      "cell_type": "code",
      "metadata": {
        "id": "A61mJgVTUhx-",
        "colab_type": "code",
        "colab": {}
      },
      "source": [
        ""
      ],
      "execution_count": 0,
      "outputs": []
    }
  ]
}